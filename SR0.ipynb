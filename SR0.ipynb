{
 "cells": [
  {
   "cell_type": "code",
   "execution_count": 5,
   "metadata": {
    "dotnet_interactive": {
     "language": "csharp"
    },
    "polyglot_notebook": {
     "kernelName": "csharp"
    },
    "vscode": {
     "languageId": "polyglot-notebook"
    }
   },
   "outputs": [
    {
     "name": "stdout",
     "output_type": "stream",
     "text": [
      "Информация о растении: Дерево по имени Незабудка с высотой 30 см цветет.\n",
      "Высота растения может достичь: 35 см\n",
      "\n",
      "Информация о растении: Цветок под названием Незабудка, цвета Сиренивый и имеет 5 лепетсков.\n",
      "Информация о растении: Цветок под названием Незабудка, цвета Сиренивый с количеством лепетсков 5 начинает увядать. Полейте его!\n",
      "\n",
      "Информация о растении: Дерево под названием Пихта, его возраст 10 лет. Пихта имеет тип листьев Хвойные.\n",
      "Возраст увеличился. Возраст: 151 лет(год).\n"
     ]
    }
   ],
   "source": [
    "public class Plant\n",
    "{\n",
    "   public string Name = \"Незабудка\";\n",
    "   public string Type = \"Дерево\";\n",
    "   public float Height = 30;\n",
    "\n",
    "   public virtual void Bloom()\n",
    "   {\n",
    "      Console.WriteLine ($\"Информация о растении: {Type} по имени {Name} с высотой {Height} см цветет.\");\n",
    "   }\n",
    "\n",
    "   public virtual void Grow(float rise)\n",
    "   {\n",
    "      Height += rise;\n",
    "      Console.WriteLine($\"Высота растения может достичь: {Height} см\");\n",
    "   }\n",
    "}\n",
    "\n",
    "public class Flower : Plant\n",
    "{ \n",
    "   public string Color = \"Сиренивый\";\n",
    "   public int Numberspetals = 5;  // лепестки\n",
    "\n",
    "   public override void Bloom()\n",
    "   {\n",
    "      Console.WriteLine ($\"Информация о растении: Цветок под названием {Name}, цвета {Color} и имеет {Numberspetals} лепетсков.\");\n",
    "   }\n",
    "\n",
    "   public void Fade()\n",
    "   {\n",
    "      Console.WriteLine ($\"Информация о растении: Цветок под названием {Name}, цвета {Color} с количеством лепетсков {Numberspetals} начинает увядать. Полейте его!\");\n",
    "   }\n",
    "}\n",
    "\n",
    "public class Tree : Plant\n",
    "{\n",
    "   public int Age = 10;\n",
    "   public string Typeleaf = \"Хвойные\";\n",
    "   public string Name = \"Пихта\";\n",
    "   \n",
    "   public override void Bloom()\n",
    "   {\n",
    "      Console.WriteLine ($\"Информация о растении: Дерево под названием {Name}, его возраст {Age} лет. {Name} имеет тип листьев {Typeleaf}.\");\n",
    "   }\n",
    "\n",
    "\n",
    "   public void Outgrow(int years)\n",
    "   {\n",
    "      Age += years;\n",
    "      Console.WriteLine($\"Возраст увеличился. Возраст: {Age} лет(год).\");\n",
    "   }\n",
    "}\n",
    "\n",
    "Plant myPlant = new Plant();\n",
    "myPlant.Bloom();\n",
    "myPlant.Height = 30;\n",
    "myPlant.Grow(5); \n",
    "Console.WriteLine(\"\");\n",
    "\n",
    "Flower myFlower = new Flower();\n",
    "myFlower.Bloom();\n",
    "myFlower.Fade();\n",
    "Console.WriteLine(\"\");\n",
    "\n",
    "Tree myTree = new Tree();\n",
    "myTree.Bloom();\n",
    "myTree.Age = 150;\n",
    "myTree.Outgrow(1);"
   ]
  }
 ],
 "metadata": {
  "kernelspec": {
   "display_name": ".NET (C#)",
   "language": "C#",
   "name": ".net-csharp"
  },
  "language_info": {
   "name": "csharp"
  },
  "polyglot_notebook": {
   "kernelInfo": {
    "defaultKernelName": "csharp",
    "items": [
     {
      "aliases": [],
      "name": "csharp"
     }
    ]
   }
  }
 },
 "nbformat": 4,
 "nbformat_minor": 2
}
