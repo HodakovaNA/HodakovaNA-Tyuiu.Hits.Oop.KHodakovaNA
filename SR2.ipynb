{
 "cells": [
  {
   "cell_type": "code",
   "execution_count": null,
   "metadata": {
    "dotnet_interactive": {
     "language": "csharp"
    },
    "polyglot_notebook": {
     "kernelName": "csharp"
    },
    "vscode": {
     "languageId": "polyglot-notebook"
    }
   },
   "outputs": [
    {
     "name": "stdout",
     "output_type": "stream",
     "text": [
      "Информация о сотрудниках:\n",
      "ФИО: Ходакова НА, Должность: CEO, Зарплата: 200000\n",
      "\n",
      "ФИО: Будрёнкин СВ, Должность: Менеджер, Зарплата: 80000\n",
      "Отдел: Связи с общественностью\n",
      "\n",
      "ФИО: Кузнецтова КС, Должность: Эколог, Зарплата: 50000\n",
      "Отдел: Криминалистика\n",
      "Название проекта: Взятие проб грунта\n",
      "\n",
      "ФИО: Рыкованов ДА, Должность: Следователь, Зарплата: 75000\n",
      "Отдел: Следственный отдел\n",
      "Название проекта: Написане отчёта по делу\n",
      "\n",
      "Отчет по проекту: Написане отчёта по делу\n",
      "\n",
      "Члены команды:\n",
      "Ходакова НА\n",
      "Будрёнкин СВ\n",
      "Кузнецтова КС\n",
      "Рыкованов ДА\n"
     ]
    }
   ],
   "source": [
    "public class Employee\n",
    "{\n",
    "   public string Name { get; set; }\n",
    "   public string Position { get; set; }\n",
    "   public double Salary { get; set; }\n",
    "\n",
    "   public Employee(string name, string position, double salary)\n",
    "   {\n",
    "      Name = name;\n",
    "      Position = position;\n",
    "      Salary = salary; //зп\n",
    "   }\n",
    "\n",
    "   public virtual void PrintInfo()\n",
    "   {\n",
    "      Console.WriteLine($\"ФИО: {Name}, Должность: {Position}, Зарплата: {Salary}\");\n",
    "   }\n",
    "}\n",
    "\n",
    "public class Manager : Employee\n",
    "{\n",
    "   public string Department { get; set; }\n",
    "\n",
    "   public Manager(string name, string position, double salary, string department) : base(name, position, salary)\n",
    "   {\n",
    "      Department = department;\n",
    "   }\n",
    "\n",
    "   public override void PrintInfo()\n",
    "   {\n",
    "      base.PrintInfo();\n",
    "      Console.WriteLine($\"Отдел: {Department}\");\n",
    "   }\n",
    "}\n",
    "\n",
    "public class ProjectManager : Manager\n",
    "{\n",
    "   public string ProjectName { get; set; }\n",
    "\n",
    "   public ProjectManager(string name, string position, double salary, string department, string projectName) : base(name, position, salary, department)\n",
    "   {\n",
    "      ProjectName = projectName;\n",
    "   }\n",
    "\n",
    "   public override void PrintInfo()\n",
    "   {\n",
    "      base.PrintInfo();\n",
    "      Console.WriteLine($\"Название проекта: {ProjectName}\");\n",
    "   }\n",
    "}\n",
    "\n",
    "public interface IReportable\n",
    "{\n",
    "    string GenerateReport();\n",
    "}\n",
    "\n",
    "public interface ITeamLeader\n",
    "{\n",
    "    string[] GetTeamMembers();\n",
    "}\n",
    "\n",
    "public class ProjectManagerIn : ProjectManager, IReportable, ITeamLeader\n",
    "{\n",
    "   public ProjectManagerIn(string name, string position, double salary, string department, string projectName) \n",
    "      : base(name, position, salary, department, projectName) { }\n",
    "\n",
    "   public string GenerateReport()\n",
    "   {\n",
    "      return $\"Отчет по проекту: {ProjectName}\";\n",
    "   }\n",
    "\n",
    "   public string[] GetTeamMembers() \n",
    "   {\n",
    "      return new string[] { \"Ходакова НА\", \"Будрёнкин СВ\", \"Кузнецтова КС\", \"Рыкованов ДА\" };\n",
    "   }\n",
    "}\n",
    "\n",
    "Employee employee1 = new Employee(\"Ходакова НА\", \"CEO\", 200000);\n",
    "Manager manager1 = new Manager(\"Будрёнкин СВ\", \"Менеджер\", 80000, \"Связи с общественностью\");\n",
    "ProjectManager projectManager1 = new ProjectManager(\"Кузнецтова КС\", \"Эколог\", 50000, \"Криминалистика\", \"Взятие проб грунта\");\n",
    "ProjectManagerIn projectManagerIn1 = new ProjectManagerIn(\"Рыкованов ДА\", \"Следователь\", 75000, \"Следственный отдел\", \"Написане отчёта по делу\");\n",
    "\n",
    "Console.WriteLine(\"Информация о сотрудниках:\");\n",
    "employee1.PrintInfo();\n",
    "Console.WriteLine();\n",
    "manager1.PrintInfo();\n",
    "Console.WriteLine();\n",
    "projectManager1.PrintInfo();\n",
    "Console.WriteLine();\n",
    "projectManagerIn1.PrintInfo();\n",
    "Console.WriteLine();\n",
    "\n",
    "Console.WriteLine(projectManagerIn1.GenerateReport());\n",
    "Console.WriteLine();\n",
    "\n",
    "Console.WriteLine(\"Члены команды:\");\n",
    "foreach (string member in projectManagerIn1.GetTeamMembers())\n",
    "{\n",
    "   Console.WriteLine(member);\n",
    "}"
   ]
  }
 ],
 "metadata": {
  "kernelspec": {
   "display_name": ".NET (C#)",
   "language": "C#",
   "name": ".net-csharp"
  },
  "language_info": {
   "name": "csharp"
  },
  "polyglot_notebook": {
   "kernelInfo": {
    "defaultKernelName": "csharp",
    "items": [
     {
      "aliases": [],
      "name": "csharp"
     }
    ]
   }
  }
 },
 "nbformat": 4,
 "nbformat_minor": 2
}
