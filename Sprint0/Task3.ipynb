{
 "cells": [
  {
   "cell_type": "markdown",
   "metadata": {},
   "source": [
    "<h1 style=\"color:DodgerBlue\">Индивидуальный проект</h1>"
   ]
  },
  {
   "cell_type": "markdown",
   "metadata": {},
   "source": [
    "<h2 style=\"color:DodgerBlue\">Название проекта: Доставочка</h2>\n",
    "\n",
    "----\n",
    "\n",
    "### Вариант задания #17\n"
   ]
  },
  {
   "cell_type": "markdown",
   "metadata": {},
   "source": [
    "<h2 style=\"color:DodgerBlue\">Описание проекта:</h2>\n",
    "\n",
    "----\n",
    "Описание задачи: Создать базовый класс ShippingOption в C#, который будет представлять различные опции доставки. На основе этого класса разработать 2-3 производных класса, демонстрирующих принципы наследования и полиморфизма. В каждом из классов должны быть реализованы новые атрибуты и методы, а также переопределены некоторые методы базового класса для демонстрации полиморфизма.\n",
    "\n",
    "Требования к базовому классу ShippingOption: \n",
    "• Атрибуты: ID опции доставки (DeliveryOptionId), Название опции доставки (DeliveryOptionName), Стоимость доставки (Cost). \n",
    "• Методы: o CalculateCost(): метод для расчета стоимости доставки. \n",
    "o EstimateDeliveryTime(): метод для оценки времени доставки. \n",
    "o GetDeliveryDetails(): метод для получения деталей опции доставки.\n",
    "\n",
    "Требования к производным классам:\n",
    "\n",
    "СтандартнаяДоставка (StandardDelivery): Должна содержать дополнительные атрибуты, такие как Среднее время доставки (AverageDeliveryTime). Метод EstimateDeliveryTime() должен быть переопределен для предоставления среднего времени доставки.\n",
    "\n",
    "ЭкспрессДоставка (ExpressDelivery): Должна содержать дополнительные атрибуты, такие как Минимальное время доставки (MinDeliveryTime). Метод CalculateCost() должен быть переопределен для увеличения стоимости доставки в случае необходимости ускорения доставки.\n",
    "\n",
    "Самовывоз (Pickup) (если требуется третий класс): Должна содержать дополнительные атрибуты, такие как Адрес пункта самовывоза (PickupAddress). Метод GetDeliveryDetails() должен быть переопределен для отображения адреса пункта самовывоза."
   ]
  },
  {
   "cell_type": "markdown",
   "metadata": {},
   "source": [
    "<h2 style=\"color:DodgerBlue\">Реализация:</h2>\n",
    "\n",
    "----"
   ]
  },
  {
   "cell_type": "code",
   "execution_count": 2,
   "metadata": {
    "dotnet_interactive": {
     "language": "csharp"
    },
    "polyglot_notebook": {
     "kernelName": "csharp"
    }
   },
   "outputs": [],
   "source": [
    "public class ShippingOption\n",
    "{\n",
    "    public int DeliveryOptionId;\n",
    "    public string DeliveryOptionName;\n",
    "    public double Cost;\n",
    "\n",
    "    public ShippingOption(int id, string name, double cost)\n",
    "    {\n",
    "        DeliveryOptionId = id;\n",
    "        DeliveryOptionName = name;\n",
    "        Cost = cost;\n",
    "    }\n",
    "\n",
    "    public virtual double CalculateCost() \n",
    "    {\n",
    "        return Cost;\n",
    "    }\n",
    "\n",
    "    public virtual string EstimateDeliveryTime()\n",
    "    {\n",
    "        return \"Срок доставки неизвестен.\";\n",
    "    }\n",
    "\n",
    "    public virtual void GetDeliveryDetails()\n",
    "    {\n",
    "        Console.WriteLine($\"Номер заказа: {DeliveryOptionId}\");\n",
    "        Console.WriteLine($\"Доставка: {DeliveryOptionName} \");\n",
    "        Console.WriteLine($\"Стоимость: {CalculateCost()}Р\");\n",
    "    }\n",
    "}\n",
    "\n",
    "public class StandardDelivery : ShippingOption\n",
    "{\n",
    "    public TimeSpan AverageDeliveryTime;\n",
    "\n",
    "    public StandardDelivery(int id, string name, double cost, TimeSpan averageDeliveryTime)\n",
    "        : base(id, name, cost)\n",
    "    {\n",
    "        AverageDeliveryTime = averageDeliveryTime;\n",
    "    }\n",
    "\n",
    "    public override string EstimateDeliveryTime()\n",
    "    {\n",
    "        return $\"Среднее время доставки: {AverageDeliveryTime.TotalDays} дней.\\n\";\n",
    "    }\n",
    "}\n",
    "\n",
    "public class ExpressDelivery : ShippingOption\n",
    "{\n",
    "    public TimeSpan MinDeliveryTime;\n",
    "\n",
    "    public ExpressDelivery(int id, string name, double cost, TimeSpan minDeliveryTime)\n",
    "        : base(id, name, cost)\n",
    "    {\n",
    "        MinDeliveryTime = minDeliveryTime;\n",
    "    }\n",
    "\n",
    "    public override double CalculateCost() \n",
    "    {\n",
    "        // 25% цены за скорость доставки\n",
    "        return Cost * 1.25; \n",
    "    }\n",
    "\n",
    "    public override string EstimateDeliveryTime()\n",
    "    {\n",
    "        return $\"Минимальное время доставки: {MinDeliveryTime.TotalHours} часа.\\n\";\n",
    "    }\n",
    "\n",
    "    public override void GetDeliveryDetails()\n",
    "    {\n",
    "        // Вывод увеличенной стоимости\n",
    "        Console.WriteLine($\"Номер заказа: {DeliveryOptionId}\");\n",
    "        Console.WriteLine($\"Доставка: {DeliveryOptionName}\");\n",
    "        Console.WriteLine($\"Стоимость: {CalculateCost()}Р\");\n",
    "    }\n",
    "}\n",
    "\n",
    "public class Pickup : ShippingOption\n",
    "{\n",
    "    public string PickupAddress;\n",
    "\n",
    "    public Pickup(int id, string name, double cost, string pickupAddress)\n",
    "        : base(id, name, cost)\n",
    "    {\n",
    "        PickupAddress = pickupAddress;\n",
    "    }\n",
    "\n",
    "    public override void GetDeliveryDetails()\n",
    "    {\n",
    "        base.GetDeliveryDetails();\n",
    "        Console.WriteLine ($\"Адрес пункта самовывоза: {PickupAddress}.\\n\");\n",
    "    }\n",
    "}\n",
    "\n",
    "ShippingOption standard = new StandardDelivery(1, \"Стандартная\", 500.0, TimeSpan.FromDays(7));\n",
    "ShippingOption express = new ExpressDelivery(2, \"Экспресс\", 800.0, TimeSpan.FromHours(24));\n",
    "ShippingOption pickup = new Pickup(3, \"Самовывоз\", 0.0, \"г. Тюмень, ул. Мельникайте, дом 70\");\n",
    "\n",
    "standard.GetDeliveryDetails();\n",
    "Console.WriteLine(standard.EstimateDeliveryTime());\n",
    "\n",
    "express.GetDeliveryDetails();\n",
    "Console.WriteLine(express.EstimateDeliveryTime());\n",
    "\n",
    "pickup.GetDeliveryDetails();\n"
   ]
  }
 ],
 "metadata": {
  "kernelspec": {
   "display_name": ".NET (C#)",
   "language": "C#",
   "name": ".net-csharp"
  },
  "polyglot_notebook": {
   "kernelInfo": {
    "defaultKernelName": "csharp",
    "items": [
     {
      "aliases": [],
      "languageName": "csharp",
      "name": "csharp"
     }
    ]
   }
  }
 },
 "nbformat": 4,
 "nbformat_minor": 2
}
